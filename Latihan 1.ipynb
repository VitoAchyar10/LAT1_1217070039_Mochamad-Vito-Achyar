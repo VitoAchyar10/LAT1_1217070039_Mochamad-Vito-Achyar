{
  "cells": [
    {
      "cell_type": "code",
      "execution_count": 1,
      "metadata": {
        "colab": {
          "base_uri": "https://localhost:8080/"
        },
        "id": "nSfZ2blDBwR9",
        "outputId": "37c8116d-ec8e-4568-a4c2-8cf274e18270"
      },
      "outputs": [
        {
          "name": "stdout",
          "output_type": "stream",
          "text": [
            "Requirement already satisfied: nltk in c:\\users\\ashid\\anaconda3\\lib\\site-packages (3.8.1)\n",
            "Requirement already satisfied: click in c:\\users\\ashid\\anaconda3\\lib\\site-packages (from nltk) (8.1.7)\n",
            "Requirement already satisfied: joblib in c:\\users\\ashid\\anaconda3\\lib\\site-packages (from nltk) (1.4.0)\n",
            "Requirement already satisfied: regex>=2021.8.3 in c:\\users\\ashid\\anaconda3\\lib\\site-packages (from nltk) (2023.10.3)\n",
            "Requirement already satisfied: tqdm in c:\\users\\ashid\\anaconda3\\lib\\site-packages (from nltk) (4.66.4)\n",
            "Requirement already satisfied: colorama in c:\\users\\ashid\\anaconda3\\lib\\site-packages (from click->nltk) (0.4.6)\n"
          ]
        }
      ],
      "source": [
        "!pip install nltk"
      ]
    },
    {
      "cell_type": "code",
      "execution_count": 2,
      "metadata": {
        "id": "5dtjGOp0BwSG"
      },
      "outputs": [],
      "source": [
        "import nltk"
      ]
    },
    {
      "cell_type": "code",
      "execution_count": 3,
      "metadata": {
        "colab": {
          "base_uri": "https://localhost:8080/"
        },
        "id": "EPBH7BFkBwSH",
        "outputId": "7a3df48d-00a7-4d16-a0b1-d5873376bfe3"
      },
      "outputs": [
        {
          "name": "stderr",
          "output_type": "stream",
          "text": [
            "[nltk_data] Downloading package punkt to\n",
            "[nltk_data]     C:\\Users\\ashid\\AppData\\Roaming\\nltk_data...\n",
            "[nltk_data]   Package punkt is already up-to-date!\n"
          ]
        },
        {
          "data": {
            "text/plain": [
              "True"
            ]
          },
          "execution_count": 3,
          "metadata": {},
          "output_type": "execute_result"
        }
      ],
      "source": [
        "nltk.download('punkt')"
      ]
    },
    {
      "cell_type": "code",
      "execution_count": 4,
      "metadata": {
        "id": "LebFH0Y3BwSI"
      },
      "outputs": [],
      "source": [
        "import pandas as pd\n",
        "import numpy as np\n",
        "from nltk.corpus import stopwords\n",
        "from nltk import ngrams\n",
        "from nltk import word_tokenize\n",
        "import string\n",
        "from sklearn.feature_extraction.text import TfidfVectorizer\n",
        "from sklearn import svm\n",
        "from sklearn.model_selection import train_test_split\n",
        "from sklearn.naive_bayes import MultinomialNB\n",
        "from nltk.stem import PorterStemmer\n",
        "from sklearn import metrics"
      ]
    },
    {
      "cell_type": "code",
      "execution_count": 6,
      "metadata": {
        "colab": {
          "base_uri": "https://localhost:8080/"
        },
        "id": "WQTqLg2ZBwSK",
        "outputId": "c879195a-86de-49f7-8ba8-41d5ee988aa3"
      },
      "outputs": [
        {
          "data": {
            "text/html": [
              "<div>\n",
              "<style scoped>\n",
              "    .dataframe tbody tr th:only-of-type {\n",
              "        vertical-align: middle;\n",
              "    }\n",
              "\n",
              "    .dataframe tbody tr th {\n",
              "        vertical-align: top;\n",
              "    }\n",
              "\n",
              "    .dataframe thead th {\n",
              "        text-align: right;\n",
              "    }\n",
              "</style>\n",
              "<table border=\"1\" class=\"dataframe\">\n",
              "  <thead>\n",
              "    <tr style=\"text-align: right;\">\n",
              "      <th></th>\n",
              "      <th>0</th>\n",
              "      <th>1</th>\n",
              "      <th>2</th>\n",
              "    </tr>\n",
              "  </thead>\n",
              "  <tbody>\n",
              "    <tr>\n",
              "      <th>0</th>\n",
              "      <td>joy</td>\n",
              "      <td>On days when I feel close to my partner and ot...</td>\n",
              "      <td>NaN</td>\n",
              "    </tr>\n",
              "    <tr>\n",
              "      <th>1</th>\n",
              "      <td>fear</td>\n",
              "      <td>Every time I imagine that someone I love or I ...</td>\n",
              "      <td>NaN</td>\n",
              "    </tr>\n",
              "    <tr>\n",
              "      <th>2</th>\n",
              "      <td>anger</td>\n",
              "      <td>When I had been obviously unjustly treated and...</td>\n",
              "      <td>NaN</td>\n",
              "    </tr>\n",
              "    <tr>\n",
              "      <th>3</th>\n",
              "      <td>sadness</td>\n",
              "      <td>When I think about the short time that we live...</td>\n",
              "      <td>NaN</td>\n",
              "    </tr>\n",
              "    <tr>\n",
              "      <th>4</th>\n",
              "      <td>disgust</td>\n",
              "      <td>At a gathering I found myself involuntarily si...</td>\n",
              "      <td>NaN</td>\n",
              "    </tr>\n",
              "  </tbody>\n",
              "</table>\n",
              "</div>"
            ],
            "text/plain": [
              "         0                                                  1    2\n",
              "0      joy  On days when I feel close to my partner and ot...  NaN\n",
              "1     fear  Every time I imagine that someone I love or I ...  NaN\n",
              "2    anger  When I had been obviously unjustly treated and...  NaN\n",
              "3  sadness  When I think about the short time that we live...  NaN\n",
              "4  disgust  At a gathering I found myself involuntarily si...  NaN"
            ]
          },
          "execution_count": 6,
          "metadata": {},
          "output_type": "execute_result"
        }
      ],
      "source": [
        "df = pd.read_csv(\"F:\\LAT 1_1217070039_Mochamad Vito Achyar\\Codingan\\ISEAR.csv\",header=None)\n",
        "\n",
        "df.head()"
      ]
    },
    {
      "cell_type": "code",
      "execution_count": 7,
      "metadata": {
        "colab": {
          "base_uri": "https://localhost:8080/",
          "height": 206
        },
        "id": "3tG3FFwkBwSM",
        "outputId": "18d44d03-f370-4b2c-c684-508be2c0320f"
      },
      "outputs": [
        {
          "data": {
            "text/html": [
              "<div>\n",
              "<style scoped>\n",
              "    .dataframe tbody tr th:only-of-type {\n",
              "        vertical-align: middle;\n",
              "    }\n",
              "\n",
              "    .dataframe tbody tr th {\n",
              "        vertical-align: top;\n",
              "    }\n",
              "\n",
              "    .dataframe thead th {\n",
              "        text-align: right;\n",
              "    }\n",
              "</style>\n",
              "<table border=\"1\" class=\"dataframe\">\n",
              "  <thead>\n",
              "    <tr style=\"text-align: right;\">\n",
              "      <th></th>\n",
              "      <th>Emotion</th>\n",
              "      <th>Text</th>\n",
              "    </tr>\n",
              "  </thead>\n",
              "  <tbody>\n",
              "    <tr>\n",
              "      <th>0</th>\n",
              "      <td>joy</td>\n",
              "      <td>On days when I feel close to my partner and ot...</td>\n",
              "    </tr>\n",
              "    <tr>\n",
              "      <th>1</th>\n",
              "      <td>fear</td>\n",
              "      <td>Every time I imagine that someone I love or I ...</td>\n",
              "    </tr>\n",
              "    <tr>\n",
              "      <th>2</th>\n",
              "      <td>anger</td>\n",
              "      <td>When I had been obviously unjustly treated and...</td>\n",
              "    </tr>\n",
              "    <tr>\n",
              "      <th>3</th>\n",
              "      <td>sadness</td>\n",
              "      <td>When I think about the short time that we live...</td>\n",
              "    </tr>\n",
              "    <tr>\n",
              "      <th>4</th>\n",
              "      <td>disgust</td>\n",
              "      <td>At a gathering I found myself involuntarily si...</td>\n",
              "    </tr>\n",
              "  </tbody>\n",
              "</table>\n",
              "</div>"
            ],
            "text/plain": [
              "   Emotion                                               Text\n",
              "0      joy  On days when I feel close to my partner and ot...\n",
              "1     fear  Every time I imagine that someone I love or I ...\n",
              "2    anger  When I had been obviously unjustly treated and...\n",
              "3  sadness  When I think about the short time that we live...\n",
              "4  disgust  At a gathering I found myself involuntarily si..."
            ]
          },
          "execution_count": 7,
          "metadata": {},
          "output_type": "execute_result"
        }
      ],
      "source": [
        "col = [0,1]\n",
        "new_df = df [col ]\n",
        "new_df = new_df [pd. notnull(df [1])]\n",
        "new_df . columns = ['Emotion', 'Text']\n",
        "new_df. head()"
      ]
    },
    {
      "cell_type": "code",
      "execution_count": 8,
      "metadata": {
        "colab": {
          "base_uri": "https://localhost:8080/",
          "height": 584
        },
        "id": "bh4C3W-vBwSN",
        "outputId": "e8009054-74cd-4f1d-a23b-ddf3468ca934"
      },
      "outputs": [
        {
          "data": {
            "image/png": "[encoded data removed]",
            "text/plain": [
              "<Figure size 800x600 with 1 Axes>"
            ]
          },
          "metadata": {},
          "output_type": "display_data"
        }
      ],
      "source": [
        "import matplotlib.pyplot as plt\n",
        "fig = plt.figure(figsize=(8,6))\n",
        "new_df.groupby( 'Emotion' ) . Text. count().plot. bar(ylim=0)\n",
        "plt. show( )"
      ]
    },
    {
      "cell_type": "code",
      "execution_count": 9,
      "metadata": {
        "colab": {
          "base_uri": "https://localhost:8080/",
          "height": 458
        },
        "id": "6t35nPkdBwSO",
        "outputId": "59e2d359-d5e7-4068-ed58-90052ff3b2fe"
      },
      "outputs": [
        {
          "data": {
            "text/plain": [
              "0           joy\n",
              "1          fear\n",
              "2         anger\n",
              "3       sadness\n",
              "4       disgust\n",
              "         ...   \n",
              "7511      shame\n",
              "7512      shame\n",
              "7513       fear\n",
              "7514      guilt\n",
              "7515       fear\n",
              "Name: Emotion, Length: 7516, dtype: object"
            ]
          },
          "execution_count": 9,
          "metadata": {},
          "output_type": "execute_result"
        }
      ],
      "source": [
        "new_df['Text']\n",
        "new_df['Emotion']"
      ]
    },
    {
      "cell_type": "code",
      "execution_count": 10,
      "metadata": {
        "id": "xLEr5EvHBwSP"
      },
      "outputs": [],
      "source": [
        "def getTokenizedList(input_df):\n",
        "    tokenizedList=[]\n",
        "    for i in range(0, len(input_df)):\n",
        "        curText = input_df['Text'].iloc[i]\n",
        "        curText = curText.replace('\\n','')\n",
        "        curTokenized=word_tokenize(curText)\n",
        "        tokenizedList.append(curTokenized)\n",
        "    #print(tokenizedList)\n",
        "\n",
        "    tokenziedListWithoutPunct=[]\n",
        "    punctList=list(string.punctuation)\n",
        "    for i in range(0, len(tokenizedList)):\n",
        "        curList=tokenizedList[i]\n",
        "        newList=[] #list without stopwords\n",
        "        for word in curList:\n",
        "            if (word.lower() not in punctList):\n",
        "                newList.append(word.lower())\n",
        "        tokenziedListWithoutPunct.append(newList)\n",
        "\n",
        "    #print(tokenziedListWithoutPunct)\n",
        "#Stemming\n",
        "    mystemmer=PorterStemmer()\n",
        "    tokenziedStemmed=[]\n",
        "    for i in range(0,len(tokenziedListWithoutPunct)):\n",
        "        curList=tokenziedListWithoutPunct[i]\n",
        "        newList=[]\n",
        "        for word in curList:\n",
        "            newList.append(mystemmer.stem(word))\n",
        "        tokenziedStemmed.append(newList)\n",
        "    return tokenziedStemmed"
      ]
    },
    {
      "cell_type": "code",
      "execution_count": 11,
      "metadata": {
        "id": "WtCZph39BwSR"
      },
      "outputs": [],
      "source": [
        "def transformSentence(sent):\n",
        "    s = []\n",
        "    sent=sent.replace('\\n','')\n",
        "    sentTokenized=word_tokenize(sent)\n",
        "    s.append (sentTokenized)\n",
        "    sWithoutPunct = []\n",
        "    punctList = list(string.punctuation)\n",
        "    curSentList = s[0]\n",
        "    newSentList = []\n",
        "    for word in curSentList:\n",
        "        if (word.lower() not in punctList):\n",
        "            newSentList.append(word.lower())\n",
        "    sWithoutPunct.append(newSentList)\n",
        "    mystemmer = PorterStemmer()\n",
        "    tokenziedStemmed = []\n",
        "    for i in range(0,len(sWithoutPunct)):\n",
        "        curList=sWithoutPunct[i]\n",
        "        newList=[]\n",
        "        for word in curList:\n",
        "            newList.append(mystemmer.stem(word))\n",
        "        tokenziedStemmed.append(newList)\n",
        "    return tokenziedStemmed"
      ]
    },
    {
      "cell_type": "code",
      "execution_count": 12,
      "metadata": {
        "id": "58UKc0WZBwSX"
      },
      "outputs": [],
      "source": [
        "new_df['Text']=getTokenizedList(new_df)\n",
        "#new_df['Text']"
      ]
    },
    {
      "cell_type": "code",
      "execution_count": 13,
      "metadata": {
        "id": "PzaRW2uOBwSZ"
      },
      "outputs": [],
      "source": [
        "X_train, X_test, Y_train, Y_test=train_test_split(new_df['Text'],new_df['Emotion'], test_size=.3,random_state=1)"
      ]
    },
    {
      "cell_type": "code",
      "execution_count": 14,
      "metadata": {
        "id": "M2CNG1a1BwSa"
      },
      "outputs": [],
      "source": [
        "#Function to pass the list to the Tfidf vectorizer\n",
        "def returnPhrase(inputList):\n",
        "    return inputList\n"
      ]
    },
    {
      "cell_type": "code",
      "execution_count": 15,
      "metadata": {
        "id": "jObkK8KnBwSb"
      },
      "outputs": [],
      "source": [
        "#Extracting features for Naive Bayes\n",
        "\n",
        "myVectorizer=TfidfVectorizer(analyzer='word',tokenizer=returnPhrase,preprocessor=returnPhrase,token_pattern=None,ngram_range=(1,3))\n",
        "myVectorizer.fit(X_train)\n",
        "transformedTrain=myVectorizer.transform(X_train).toarray()\n",
        "transformedTest=myVectorizer.transform(X_test).toarray()"
      ]
    },
    {
      "cell_type": "code",
      "execution_count": 16,
      "metadata": {
        "colab": {
          "base_uri": "https://localhost:8080/"
        },
        "id": "gTAn1UVzBwSb",
        "outputId": "36739503-f590-4ed2-d2bf-57d9cf3058b1"
      },
      "outputs": [
        {
          "name": "stdout",
          "output_type": "stream",
          "text": [
            "Best Acc Naive Bayes\n",
            "0.5835920177383592\n"
          ]
        }
      ],
      "source": [
        "curAlpha=0.33 #smoothing factor in NB\n",
        "NBClassifier=MultinomialNB(alpha=curAlpha)\n",
        "NBClassifier.fit(transformedTrain,Y_train)\n",
        "myPredTest=NBClassifier.predict(transformedTest)\n",
        "print('Best Acc Naive Bayes')\n",
        "#print (curAlpha)\n",
        "print(np.sum(myPredTest==Y_test)/len(Y_test))\n"
      ]
    },
    {
      "cell_type": "code",
      "execution_count": 17,
      "metadata": {
        "colab": {
          "base_uri": "https://localhost:8080/"
        },
        "id": "CnGyGIv9BwSd",
        "outputId": "b18097ad-4aa6-45bc-87d5-970d98f1e034"
      },
      "outputs": [
        {
          "name": "stdout",
          "output_type": "stream",
          "text": [
            "Metrics Classification Report : Naive Bayes\n",
            "              precision    recall  f1-score   support\n",
            "\n",
            "       anger       0.51      0.47      0.49       331\n",
            "     disgust       0.72      0.50      0.59       324\n",
            "        fear       0.62      0.70      0.66       311\n",
            "       guilt       0.43      0.62      0.51       299\n",
            "         joy       0.69      0.69      0.69       323\n",
            "     sadness       0.68      0.60      0.64       351\n",
            "       shame       0.52      0.51      0.52       316\n",
            "\n",
            "    accuracy                           0.58      2255\n",
            "   macro avg       0.60      0.58      0.58      2255\n",
            "weighted avg       0.60      0.58      0.59      2255\n",
            "\n"
          ]
        }
      ],
      "source": [
        "print('Metrics Classification Report : Naive Bayes')\n",
        "print(metrics.classification_report(Y_test, myPredTest))\n"
      ]
    },
    {
      "cell_type": "code",
      "execution_count": 20,
      "metadata": {
        "id": "2a5Nnpt6BwSe"
      },
      "outputs": [],
      "source": [
        "myVectorizer=TfidfVectorizer(analyzer='word',tokenizer=returnPhrase,preprocessor=returnPhrase,token_pattern=None,ngram_range=(1,3))\n",
        "myVectorizer.fit(X_train)\n",
        "transformedTrain=myVectorizer.transform(X_train).toarray()\n",
        "transformedTest=myVectorizer.transform(X_test).toarray()"
      ]
    },
    {
      "cell_type": "code",
      "execution_count": 21,
      "metadata": {
        "colab": {
          "base_uri": "https://localhost:8080/"
        },
        "id": "Kxr73-rrBwSe",
        "outputId": "e8f3eec7-3de0-48d1-a83e-758dffb18a63"
      },
      "outputs": [
        {
          "name": "stderr",
          "output_type": "stream",
          "text": [
            "c:\\Users\\ashid\\anaconda3\\Lib\\site-packages\\sklearn\\svm\\_classes.py:31: FutureWarning: The default value of `dual` will change from `True` to `'auto'` in 1.5. Set the value of `dual` explicitly to suppress the warning.\n",
            "  warnings.warn(\n"
          ]
        },
        {
          "name": "stdout",
          "output_type": "stream",
          "text": [
            "Best Acc SVM\n",
            "0.6124168514412417\n"
          ]
        }
      ],
      "source": [
        "curC=2    #cost factor in SVM\n",
        "SVMClassifier=svm.LinearSVC(C=curC)\n",
        "SVMClassifier.fit(transformedTrain,Y_train)\n",
        "myPredTest=SVMClassifier.predict(transformedTest)\n",
        "print('Best Acc SVM')\n",
        "#print (curC)\n",
        "print(np.sum(myPredTest==Y_test)/len(Y_test))\n"
      ]
    },
    {
      "cell_type": "code",
      "execution_count": 22,
      "metadata": {
        "colab": {
          "base_uri": "https://localhost:8080/"
        },
        "id": "9ZQSJuM1BwSf",
        "outputId": "3f32b493-fdf8-46e1-a463-b42571a53812"
      },
      "outputs": [
        {
          "name": "stdout",
          "output_type": "stream",
          "text": [
            "Metrics Classification Report : SVM\n",
            "              precision    recall  f1-score   support\n",
            "\n",
            "       anger       0.53      0.55      0.54       331\n",
            "     disgust       0.67      0.60      0.63       324\n",
            "        fear       0.65      0.72      0.69       311\n",
            "       guilt       0.50      0.56      0.53       299\n",
            "         joy       0.70      0.71      0.70       323\n",
            "     sadness       0.67      0.65      0.66       351\n",
            "       shame       0.56      0.50      0.53       316\n",
            "\n",
            "    accuracy                           0.61      2255\n",
            "   macro avg       0.61      0.61      0.61      2255\n",
            "weighted avg       0.61      0.61      0.61      2255\n",
            "\n"
          ]
        }
      ],
      "source": [
        "print('Metrics Classification Report : SVM')\n",
        "print(metrics. classification_report(Y_test, myPredTest))\n"
      ]
    },
    {
      "cell_type": "code",
      "execution_count": 23,
      "metadata": {
        "id": "Gpmi4IFlBwSg"
      },
      "outputs": [],
      "source": [
        "#To predict the emotion of a sentence using Naive Bayes\n",
        "def predictSentNB(sent):\n",
        "    sentPred = NBClassifier.predict(myVectorizer. transform(transformSentence(sent)).toarray())\n",
        "    return sentPred\n"
      ]
    },
    {
      "cell_type": "code",
      "execution_count": 24,
      "metadata": {
        "id": "JnKwzBbSBwSg"
      },
      "outputs": [],
      "source": [
        "#To predict the emotion of a sentence using Naive Bayes\n",
        "def predictSentSVM(sent):\n",
        "    sentPred = SVMClassifier.predict(myVectorizer. transform(transformSentence(sent)).toarray())\n",
        "    return sentPred\n"
      ]
    },
    {
      "cell_type": "code",
      "execution_count": 25,
      "metadata": {
        "colab": {
          "base_uri": "https://localhost:8080/"
        },
        "id": "lH14xTAdBwSh",
        "outputId": "653faee3-22f2-4440-f798-3d4e5db5fb09"
      },
      "outputs": [
        {
          "name": "stdout",
          "output_type": "stream",
          "text": [
            "Navie bayes prediction\n",
            "['joy']\n",
            "SVM prediction\n",
            "['joy']\n"
          ]
        }
      ],
      "source": [
        "sent = \"I love you to the moon and back\"\n",
        "\n",
        "#Printing the predicted emotion\n",
        "print(\"Navie bayes prediction\")\n",
        "print(predictSentNB(sent))\n",
        "print(\"SVM prediction\")\n",
        "print(predictSentSVM(sent))\n"
      ]
    },
    {
      "cell_type": "code",
      "execution_count": 26,
      "metadata": {
        "colab": {
          "base_uri": "https://localhost:8080/",
          "height": 619
        },
        "id": "5ZAZNc8HBwSi",
        "outputId": "236e2cc9-4e21-4b77-b419-23c99319c72b"
      },
      "outputs": [
        {
          "data": {
            "image/png": "[encoded data removed]",
            "text/plain": [
              "<Figure size 700x700 with 2 Axes>"
            ]
          },
          "metadata": {},
          "output_type": "display_data"
        }
      ],
      "source": [
        "#printing the Confusion Matrix\n",
        "\n",
        "from sklearn.metrics import confusion_matrix\n",
        "import seaborn as sns\n",
        "import matplotlib.pyplot as plt # Import matplotlib for plotting\n",
        "\n",
        "labels = ['anger','disgust','fear','guilt','joy','sadness','shame']\n",
        "cm = confusion_matrix(Y_test, myPredTest, labels=labels) # Pass labels as a keyword argument\n",
        "#print(cm)\n",
        "fig, ax = plt.subplots(figsize=(7,7))\n",
        "sns.heatmap(cm, annot=True,fmt='d',\n",
        "            xticklabels=labels, yticklabels=labels,cmap='Blues')\n",
        "plt.ylabel('Actual Emotions')\n",
        "plt.xlabel('Predicted Emotions')\n",
        "plt.show()"
      ]
    }
  ],
  "metadata": {
    "colab": {
      "provenance": []
    },
    "kernelspec": {
      "display_name": "base",
      "language": "python",
      "name": "python3"
    },
    "language_info": {
      "codemirror_mode": {
        "name": "ipython",
        "version": 3
      },
      "file_extension": ".py",
      "mimetype": "text/x-python",
      "name": "python",
      "nbconvert_exporter": "python",
      "pygments_lexer": "ipython3",
      "version": "3.11.9"
    }
  },
  "nbformat": 4,
  "nbformat_minor": 0
}
